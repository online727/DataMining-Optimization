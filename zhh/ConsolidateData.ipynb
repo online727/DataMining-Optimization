{
 "cells": [
  {
   "cell_type": "code",
   "execution_count": 1,
   "metadata": {},
   "outputs": [],
   "source": [
    "import pandas as pd\n",
    "import os"
   ]
  },
  {
   "cell_type": "code",
   "execution_count": 2,
   "metadata": {},
   "outputs": [
    {
     "data": {
      "text/html": [
       "<div>\n",
       "<style scoped>\n",
       "    .dataframe tbody tr th:only-of-type {\n",
       "        vertical-align: middle;\n",
       "    }\n",
       "\n",
       "    .dataframe tbody tr th {\n",
       "        vertical-align: top;\n",
       "    }\n",
       "\n",
       "    .dataframe thead th {\n",
       "        text-align: right;\n",
       "    }\n",
       "</style>\n",
       "<table border=\"1\" class=\"dataframe\">\n",
       "  <thead>\n",
       "    <tr style=\"text-align: right;\">\n",
       "      <th></th>\n",
       "      <th>code_full</th>\n",
       "      <th>name</th>\n",
       "      <th>2021</th>\n",
       "      <th>2022</th>\n",
       "      <th>2023</th>\n",
       "    </tr>\n",
       "    <tr>\n",
       "      <th>code</th>\n",
       "      <th></th>\n",
       "      <th></th>\n",
       "      <th></th>\n",
       "      <th></th>\n",
       "      <th></th>\n",
       "    </tr>\n",
       "  </thead>\n",
       "  <tbody>\n",
       "    <tr>\n",
       "      <th>000001</th>\n",
       "      <td>000001.SZ</td>\n",
       "      <td>平安银行</td>\n",
       "      <td>-0.132696</td>\n",
       "      <td>-0.176295</td>\n",
       "      <td>-0.241602</td>\n",
       "    </tr>\n",
       "    <tr>\n",
       "      <th>000002</th>\n",
       "      <td>000002.SZ</td>\n",
       "      <td>万科A</td>\n",
       "      <td>-0.221323</td>\n",
       "      <td>-0.021555</td>\n",
       "      <td>-0.266972</td>\n",
       "    </tr>\n",
       "    <tr>\n",
       "      <th>000063</th>\n",
       "      <td>000063.SZ</td>\n",
       "      <td>中兴通讯</td>\n",
       "      <td>0.001382</td>\n",
       "      <td>-0.210217</td>\n",
       "      <td>0.036873</td>\n",
       "    </tr>\n",
       "    <tr>\n",
       "      <th>000100</th>\n",
       "      <td>000100.SZ</td>\n",
       "      <td>TCL科技</td>\n",
       "      <td>-0.100891</td>\n",
       "      <td>-0.326498</td>\n",
       "      <td>0.212967</td>\n",
       "    </tr>\n",
       "    <tr>\n",
       "      <th>000166</th>\n",
       "      <td>000166.SZ</td>\n",
       "      <td>申万宏源</td>\n",
       "      <td>-0.010345</td>\n",
       "      <td>-0.186012</td>\n",
       "      <td>0.106854</td>\n",
       "    </tr>\n",
       "  </tbody>\n",
       "</table>\n",
       "</div>"
      ],
      "text/plain": [
       "        code_full   name      2021      2022      2023\n",
       "code                                                  \n",
       "000001  000001.SZ   平安银行 -0.132696 -0.176295 -0.241602\n",
       "000002  000002.SZ    万科A -0.221323 -0.021555 -0.266972\n",
       "000063  000063.SZ   中兴通讯  0.001382 -0.210217  0.036873\n",
       "000100  000100.SZ  TCL科技 -0.100891 -0.326498  0.212967\n",
       "000166  000166.SZ   申万宏源 -0.010345 -0.186012  0.106854"
      ]
     },
     "execution_count": 2,
     "metadata": {},
     "output_type": "execute_result"
    }
   ],
   "source": [
    "return_df = pd.read_excel(\"../Data/Components.xlsx\")\n",
    "return_df[\"code\"] = return_df[\"code\"].astype(str).str.zfill(6)\n",
    "return_df = return_df.set_index(\"code\")\n",
    "return_df.head()"
   ]
  },
  {
   "cell_type": "code",
   "execution_count": 3,
   "metadata": {},
   "outputs": [
    {
     "data": {
      "text/plain": [
       "['000001_平安银行_2020年年度报告.pdf',\n",
       " '000001_平安银行_2021年年度报告.pdf',\n",
       " '000002_万科A_2020年年度报告.pdf',\n",
       " '000002_万科A_2021年年度报告.pdf',\n",
       " '000063_中兴通讯_2020年年度报告.pdf']"
      ]
     },
     "execution_count": 3,
     "metadata": {},
     "output_type": "execute_result"
    }
   ],
   "source": [
    "annual_reports = os.listdir(\"../Data/AnnualReports\")\n",
    "annual_reports[:5]"
   ]
  },
  {
   "cell_type": "code",
   "execution_count": 32,
   "metadata": {},
   "outputs": [
    {
     "data": {
      "text/html": [
       "<div>\n",
       "<style scoped>\n",
       "    .dataframe tbody tr th:only-of-type {\n",
       "        vertical-align: middle;\n",
       "    }\n",
       "\n",
       "    .dataframe tbody tr th {\n",
       "        vertical-align: top;\n",
       "    }\n",
       "\n",
       "    .dataframe thead th {\n",
       "        text-align: right;\n",
       "    }\n",
       "</style>\n",
       "<table border=\"1\" class=\"dataframe\">\n",
       "  <thead>\n",
       "    <tr style=\"text-align: right;\">\n",
       "      <th></th>\n",
       "      <th>code</th>\n",
       "      <th>report</th>\n",
       "      <th>rtn1y</th>\n",
       "      <th>rtn2y</th>\n",
       "    </tr>\n",
       "  </thead>\n",
       "  <tbody>\n",
       "    <tr>\n",
       "      <th>0</th>\n",
       "      <td>000001</td>\n",
       "      <td>000001_平安银行_2020年年度报告.pdf</td>\n",
       "      <td>-0.132696</td>\n",
       "      <td>-0.176295</td>\n",
       "    </tr>\n",
       "    <tr>\n",
       "      <th>1</th>\n",
       "      <td>000001</td>\n",
       "      <td>000001_平安银行_2021年年度报告.pdf</td>\n",
       "      <td>-0.176295</td>\n",
       "      <td>-0.241602</td>\n",
       "    </tr>\n",
       "    <tr>\n",
       "      <th>2</th>\n",
       "      <td>000002</td>\n",
       "      <td>000002_万科A_2020年年度报告.pdf</td>\n",
       "      <td>-0.221323</td>\n",
       "      <td>-0.021555</td>\n",
       "    </tr>\n",
       "    <tr>\n",
       "      <th>3</th>\n",
       "      <td>000002</td>\n",
       "      <td>000002_万科A_2021年年度报告.pdf</td>\n",
       "      <td>-0.021555</td>\n",
       "      <td>-0.266972</td>\n",
       "    </tr>\n",
       "    <tr>\n",
       "      <th>4</th>\n",
       "      <td>000063</td>\n",
       "      <td>000063_中兴通讯_2020年年度报告.pdf</td>\n",
       "      <td>0.001382</td>\n",
       "      <td>-0.210217</td>\n",
       "    </tr>\n",
       "  </tbody>\n",
       "</table>\n",
       "</div>"
      ],
      "text/plain": [
       "     code                     report     rtn1y     rtn2y\n",
       "0  000001  000001_平安银行_2020年年度报告.pdf -0.132696 -0.176295\n",
       "1  000001  000001_平安银行_2021年年度报告.pdf -0.176295 -0.241602\n",
       "2  000002   000002_万科A_2020年年度报告.pdf -0.221323 -0.021555\n",
       "3  000002   000002_万科A_2021年年度报告.pdf -0.021555 -0.266972\n",
       "4  000063  000063_中兴通讯_2020年年度报告.pdf  0.001382 -0.210217"
      ]
     },
     "execution_count": 32,
     "metadata": {},
     "output_type": "execute_result"
    }
   ],
   "source": [
    "import re\n",
    "def get_report_year(report):\n",
    "    year = re.search(r'(\\d{4})年', report.replace(\" \", \"\")).group(1)\n",
    "    return year\n",
    "\n",
    "report_rtn_df = []\n",
    "for report in annual_reports:\n",
    "    code = report.split(\"_\")[0]\n",
    "    year = int(get_report_year(report))\n",
    "    # return of forward 1 year and 2 years\n",
    "    rtn1y, rtn2y = return_df.loc[code, [year+1, year+2]]\n",
    "    report_rtn_df.append([code, report, rtn1y, rtn2y])\n",
    "report_rtn_df = pd.DataFrame(report_rtn_df, columns=[\"code\", \"report\", \"rtn1y\", \"rtn2y\"])\n",
    "report_rtn_df.head()"
   ]
  },
  {
   "cell_type": "code",
   "execution_count": 34,
   "metadata": {},
   "outputs": [],
   "source": [
    "report_rtn_df.to_csv(\"../Data/ReportReturn.csv\", index=False)"
   ]
  },
  {
   "cell_type": "code",
   "execution_count": null,
   "metadata": {},
   "outputs": [],
   "source": []
  }
 ],
 "metadata": {
  "kernelspec": {
   "display_name": "base",
   "language": "python",
   "name": "python3"
  },
  "language_info": {
   "codemirror_mode": {
    "name": "ipython",
    "version": 3
   },
   "file_extension": ".py",
   "mimetype": "text/x-python",
   "name": "python",
   "nbconvert_exporter": "python",
   "pygments_lexer": "ipython3",
   "version": "3.11.5"
  }
 },
 "nbformat": 4,
 "nbformat_minor": 2
}
